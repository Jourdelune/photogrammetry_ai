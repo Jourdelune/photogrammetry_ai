{
 "cells": [
  {
   "cell_type": "code",
   "execution_count": 3,
   "id": "fc043e4a",
   "metadata": {},
   "outputs": [],
   "source": [
    "import os \n",
    "os.environ['XDG_SESSION_TYPE'] = 'x11'"
   ]
  },
  {
   "cell_type": "code",
   "execution_count": 4,
   "id": "b1a4ccbc",
   "metadata": {},
   "outputs": [],
   "source": [
    "import open3d as o3d"
   ]
  },
  {
   "cell_type": "code",
   "execution_count": 5,
   "id": "17e81a13",
   "metadata": {},
   "outputs": [],
   "source": [
    "sample_ply_data = o3d.data.PLYPointCloud()\n",
    "pcd = o3d.io.read_point_cloud(sample_ply_data.path)\n",
    "o3d.visualization.draw_geometries([pcd],\n",
    "                                  zoom=0.3412,\n",
    "                                  front=[0.4257, -0.2125, -0.8795],\n",
    "                                  lookat=[2.6172, 2.0475, 1.532],\n",
    "                                  up=[-0.0694, -0.9768, 0.2024])\n"
   ]
  },
  {
   "cell_type": "code",
   "execution_count": null,
   "id": "7e2e0fb3",
   "metadata": {},
   "outputs": [],
   "source": []
  }
 ],
 "metadata": {
  "kernelspec": {
   "display_name": "photogrammetry-ai",
   "language": "python",
   "name": "python3"
  },
  "language_info": {
   "codemirror_mode": {
    "name": "ipython",
    "version": 3
   },
   "file_extension": ".py",
   "mimetype": "text/x-python",
   "name": "python",
   "nbconvert_exporter": "python",
   "pygments_lexer": "ipython3",
   "version": "3.12.9"
  }
 },
 "nbformat": 4,
 "nbformat_minor": 5
}
