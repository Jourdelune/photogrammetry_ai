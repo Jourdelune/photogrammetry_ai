{
 "cells": [
  {
   "cell_type": "code",
   "execution_count": 1,
   "id": "fc043e4a",
   "metadata": {},
   "outputs": [
    {
     "name": "stdout",
     "output_type": "stream",
     "text": [
      "Jupyter environment detected. Enabling Open3D WebVisualizer.\n",
      "[Open3D INFO] WebRTC GUI backend enabled.\n",
      "[Open3D INFO] WebRTCWindowSystem: HTTP handshake server disabled.\n"
     ]
    }
   ],
   "source": [
    "import os \n",
    "os.environ['XDG_SESSION_TYPE'] = 'x11'\n",
    "import open3d as o3d"
   ]
  },
  {
   "cell_type": "code",
   "execution_count": 2,
   "id": "17e81a13",
   "metadata": {},
   "outputs": [
    {
     "name": "stderr",
     "output_type": "stream",
     "text": [
      "/home/jourdelune/Bureau/dev/photogrammetry_ai/.venv/lib/python3.12/site-packages/lightglue/lightglue.py:24: FutureWarning: `torch.cuda.amp.custom_fwd(args...)` is deprecated. Please use `torch.amp.custom_fwd(args..., device_type='cuda')` instead.\n",
      "  @torch.cuda.amp.custom_fwd(cast_inputs=torch.float32)\n",
      "/home/jourdelune/Bureau/dev/photogrammetry_ai/src/photogrammetry_ai/reconstruction/vggt.py:76: FutureWarning: `torch.cuda.amp.autocast(args...)` is deprecated. Please use `torch.amp.autocast('cuda', args...)` instead.\n",
      "  with torch.cuda.amp.autocast(dtype=self.dtype):\n"
     ]
    },
    {
     "name": "stdout",
     "output_type": "stream",
     "text": [
      ":: RANSAC registration on downsampled point clouds.\n",
      "   Since the downsampling voxel size is 0.050,\n",
      "   we use a liberal distance threshold 0.075.\n",
      "\u001b[1;33m[Open3D WARNING] Too few correspondences (78) after mutual filter, fall back to original correspondences.\u001b[0;m\n",
      ":: RANSAC registration on downsampled point clouds.\n",
      "   Since the downsampling voxel size is 0.050,\n",
      "   we use a liberal distance threshold 0.075.\n",
      ":: RANSAC registration on downsampled point clouds.\n",
      "   Since the downsampling voxel size is 0.050,\n",
      "   we use a liberal distance threshold 0.075.\n",
      "\u001b[1;33m[Open3D WARNING] Too few correspondences (1114) after mutual filter, fall back to original correspondences.\u001b[0;m\n",
      ":: RANSAC registration on downsampled point clouds.\n",
      "   Since the downsampling voxel size is 0.050,\n",
      "   we use a liberal distance threshold 0.075.\n",
      "\u001b[1;33m[Open3D WARNING] Too few correspondences (906) after mutual filter, fall back to original correspondences.\u001b[0;m\n",
      ":: RANSAC registration on downsampled point clouds.\n",
      "   Since the downsampling voxel size is 0.050,\n",
      "   we use a liberal distance threshold 0.075.\n",
      "\u001b[1;33m[Open3D WARNING] Too few correspondences (514) after mutual filter, fall back to original correspondences.\u001b[0;m\n",
      ":: RANSAC registration on downsampled point clouds.\n",
      "   Since the downsampling voxel size is 0.050,\n",
      "   we use a liberal distance threshold 0.075.\n",
      "\u001b[1;33m[Open3D WARNING] Too few correspondences (530) after mutual filter, fall back to original correspondences.\u001b[0;m\n"
     ]
    }
   ],
   "source": [
    "from photogrammetry_ai import (\n",
    "    PhotogrammetryPipeline,\n",
    "    LightGlueMatcher,\n",
    "    VGGTReconstructor,\n",
    "    ICPAligner,\n",
    ")\n",
    "import os\n",
    "\n",
    "image_dir = \"/home/jourdelune/Images/colmap/input\"\n",
    "\n",
    "images = os.listdir(image_dir)\n",
    "images = [\n",
    "    os.path.join(image_dir, img)\n",
    "    for img in images\n",
    "    if img.lower().endswith((\".jpg\", \".jpeg\", \".png\"))\n",
    "]\n",
    "\n",
    "\n",
    "pipeline = PhotogrammetryPipeline(\n",
    "    matcher=LightGlueMatcher(),  # used to create related batches of images\n",
    "    reconstructor=VGGTReconstructor(),  # used to reconstruct the 3D points from the images\n",
    "    aligner=ICPAligner(),  # used to merges the 3D points from the batches\n",
    "    max_batch_size=4,\n",
    ")\n",
    "\n",
    "results = pipeline.process(images)"
   ]
  },
  {
   "cell_type": "code",
   "execution_count": 3,
   "id": "7e2e0fb3",
   "metadata": {},
   "outputs": [
    {
     "ename": "",
     "evalue": "",
     "output_type": "error",
     "traceback": [
      "\u001b[1;31mThe Kernel crashed while executing code in the current cell or a previous cell. \n",
      "\u001b[1;31mPlease review the code in the cell(s) to identify a possible cause of the failure. \n",
      "\u001b[1;31mClick <a href='https://aka.ms/vscodeJupyterKernelCrash'>here</a> for more info. \n",
      "\u001b[1;31mView Jupyter <a href='command:jupyter.viewOutput'>log</a> for further details."
     ]
    }
   ],
   "source": [
    "del pipeline\n",
    "\n",
    "o3d.visualization.draw_geometries([results])"
   ]
  },
  {
   "cell_type": "code",
   "execution_count": null,
   "id": "69c6a913",
   "metadata": {},
   "outputs": [],
   "source": []
  }
 ],
 "metadata": {
  "kernelspec": {
   "display_name": "photogrammetry-ai",
   "language": "python",
   "name": "python3"
  },
  "language_info": {
   "codemirror_mode": {
    "name": "ipython",
    "version": 3
   },
   "file_extension": ".py",
   "mimetype": "text/x-python",
   "name": "python",
   "nbconvert_exporter": "python",
   "pygments_lexer": "ipython3",
   "version": "3.12.9"
  }
 },
 "nbformat": 4,
 "nbformat_minor": 5
}
